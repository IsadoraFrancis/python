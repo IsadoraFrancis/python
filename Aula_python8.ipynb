{
 "cells": [
  {
   "cell_type": "code",
   "execution_count": 8,
   "metadata": {},
   "outputs": [],
   "source": [
    "range(1,5)\n",
    "def funcaoLeitura():\n",
    "    for num in [1,2,3,4,5]:\n",
    "        print ( 'Número', num)"
   ]
  },
  {
   "cell_type": "code",
   "execution_count": 11,
   "metadata": {},
   "outputs": [
    {
     "name": "stdout",
     "output_type": "stream",
     "text": [
      "Número 0\n",
      "Número 1\n",
      "Número 2\n",
      "Número 3\n",
      "Número 4\n",
      "None\n"
     ]
    }
   ],
   "source": [
    "def funcaoLeitura():\n",
    "    for num in range(5):\n",
    "        print ('Número', num)\n",
    "\n",
    "print (funcaoLeitura())"
   ]
  },
  {
   "cell_type": "code",
   "execution_count": 14,
   "metadata": {},
   "outputs": [
    {
     "name": "stdout",
     "output_type": "stream",
     "text": [
      " o primeiro número é: 7\n",
      " o segundo número é: 8\n",
      " a soma do primeiro número com o segundo é: 15\n",
      "None\n"
     ]
    }
   ],
   "source": [
    "#Função para somar dois  números\n",
    "def addNum (n1, n2):\n",
    "    print(\" o primeiro número é:\", n1)\n",
    "    print(\" o segundo número é:\", n2)\n",
    "    print(\" a soma do primeiro número com o segundo é:\", n1+n2)\n",
    "\n",
    "print (addNum(7, 8))"
   ]
  },
  {
   "cell_type": "code",
   "execution_count": 23,
   "metadata": {},
   "outputs": [
    {
     "name": "stdout",
     "output_type": "stream",
     "text": [
      "Váriavel da função multiplica 20\n",
      "10\n"
     ]
    }
   ],
   "source": [
    "varGlobal = 10 #essa é uma variavel global\n",
    "def multiplicacao(num1, num2):\n",
    "    varGlobal = num1 * num2 #essa é uma variavel local\n",
    "    print (\"Váriavel da função multiplica\", varGlobal)\n",
    "\n",
    "multiplicacao (5, 4)\n",
    "print(varGlobal)\n",
    "\n",
    "# o print de varGlobal ta pixando a varivel que é a variavel global\n",
    "# ja a multiplicação ta puxando da varivel que ta dentro da variavel global, que mesmo sendo o mesmo nome a que ta\n",
    "# dentro é uma varivel local"
   ]
  },
  {
   "cell_type": "code",
   "execution_count": 26,
   "metadata": {},
   "outputs": [
    {
     "name": "stdout",
     "output_type": "stream",
     "text": [
      "Parâmetros 0 Luquinhas\n",
      "Parâmetros 1 Madá\n",
      "Parâmetros 2 Giggio\n"
     ]
    }
   ],
   "source": [
    "def variosParametros(*paramentos):\n",
    "    for n, item in enumerate(paramentos):\n",
    "        print (\"Parâmetros\", n, item)\n",
    "    return\n",
    "\n",
    "\n",
    "variosParametros (\"Luquinhas\", \"Madá\", \"Giggio\")\n"
   ]
  },
  {
   "cell_type": "code",
   "execution_count": 31,
   "metadata": {},
   "outputs": [],
   "source": [
    "def soma(n1, n2):\n",
    "    return n1 + n2\n",
    "\n",
    "def subtrai(n1, n2):\n",
    "    return n1 - n2\n",
    "\n",
    "def multiplica(n1, n2):\n",
    "    return n1 * n2\n",
    "\n",
    "def divide(n1, n2):\n",
    "    return n1 / n2"
   ]
  },
  {
   "cell_type": "code",
   "execution_count": 32,
   "metadata": {},
   "outputs": [
    {
     "name": "stdout",
     "output_type": "stream",
     "text": [
      "+==================+\n",
      "| MENU DE OPERAÇÕES|\n",
      "|  1 - SOMAR       |\n",
      "|  2 - SUBTRAIR    |\n",
      "|  3 - MULTIPLICAR |\n",
      "|  4 - DIVIDIR     |\n",
      "|  0 - SAIR        |\n",
      "+==================+\n"
     ]
    }
   ],
   "source": [
    "while True:\n",
    "    print(\"+==================+\")\n",
    "    print(\"| MENU DE OPERAÇÕES|\")\n",
    "    print(\"|  1 - SOMAR       |\")\n",
    "    print(\"|  2 - SUBTRAIR    |\")\n",
    "    print(\"|  3 - MULTIPLICAR |\")\n",
    "    print(\"|  4 - DIVIDIR     |\")\n",
    "    print(\"|  0 - SAIR        |\")\n",
    "    print(\"+==================+\")\n",
    "    \n",
    "    op = int(input())\n",
    "    if op == 0:\n",
    "        break\n",
    "\n",
    "    n1 = int(input(\"Primeiro número:\"))\n",
    "    n2 = int(input(\"Segundo número:\"))\n",
    "    if op ==1:\n",
    "        print (\"O resultado da soma é:\", soma(n1, n2))\n",
    "    elif op==2:\n",
    "        print (\"O resultado da subtração é:\", subtrai (n1, n2))\n",
    "    elif op==3:\n",
    "        print (\"O resultado da multiplicação é:\", multiplica (n1, n2))\n",
    "    elif op ==4:\n",
    "        print (\"O resultado da divisão é:\", divide (n1, n2))\n",
    "    break"
   ]
  }
 ],
 "metadata": {
  "kernelspec": {
   "display_name": "Python 3",
   "language": "python",
   "name": "python3"
  },
  "language_info": {
   "codemirror_mode": {
    "name": "ipython",
    "version": 3
   },
   "file_extension": ".py",
   "mimetype": "text/x-python",
   "name": "python",
   "nbconvert_exporter": "python",
   "pygments_lexer": "ipython3",
   "version": "3.11.9"
  }
 },
 "nbformat": 4,
 "nbformat_minor": 2
}
