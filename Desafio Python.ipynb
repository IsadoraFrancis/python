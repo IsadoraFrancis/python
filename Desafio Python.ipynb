{
 "cells": [
  {
   "cell_type": "code",
   "execution_count": 5,
   "metadata": {},
   "outputs": [
    {
     "name": "stdout",
     "output_type": "stream",
     "text": [
      "o produto do primeiro numero com a metade do segundo numero escolhido é: 25.0\n",
      "A soma do triplo do primeiro com o terceiro elevado ao cubo.é: 181.375\n"
     ]
    }
   ],
   "source": [
    "#1) Faça um Programa que peça 2 números inteiros e um número real. Calcule e mostre: a)O produto do dobro do primeiro com metade do segundo. b)A soma do triplo do primeiro com o terceiro. o terceiro elevado ao cubo.\n",
    "numero1= int(input ('Digite um número inteiro'))\n",
    "numero2= int(input ('Digite outro número inteiro'))\n",
    "numero3= float(input ('Digite um número real'))\n",
    "resultado1= (numero1*2)*(numero2/2)\n",
    "resultado2= (numero1*3)+numero3**3\n",
    "print ('o produto do primeiro numero com a metade do segundo numero escolhido é:', resultado1)\n",
    "print ('A soma do triplo do primeiro com o terceiro elevado ao cubo.é:', resultado2)"
   ]
  },
  {
   "cell_type": "code",
   "execution_count": 10,
   "metadata": {},
   "outputs": [
    {
     "name": "stdout",
     "output_type": "stream",
     "text": [
      "O segundo número digitado é maior que o primeiro\n"
     ]
    }
   ],
   "source": [
    "#2) Faça um Programa que peça dois números e imprima o maior deles.\n",
    "numero4= int(input ('Digite um número'))\n",
    "numero5= int(input ('Digite outro número'))\n",
    "if numero4>numero5:\n",
    "     print ( 'O primeiro número digitado é maior que o segundo')\n",
    "else: numero5>numero4\n",
    "print( 'O segundo número digitado é maior que o primeiro')"
   ]
  },
  {
   "cell_type": "code",
   "execution_count": 31,
   "metadata": {},
   "outputs": [
    {
     "name": "stdout",
     "output_type": "stream",
     "text": [
      "O número é negativo\n"
     ]
    }
   ],
   "source": [
    "#3)Faça um Programa que peça um valor e mostre na tela se o valor é positivo ou negativo.\n",
    "numero= int(input('Digite um numero positivo ou negativo'))\n",
    "if numero>0:\n",
    "    print ('O número é positivo')\n",
    "elif numero<0:\n",
    "    print ('O número é negativo')\n",
    "elif numero==0:\n",
    "    print (' O numero não é nem positivo nem negativo, ele é um número neutro')\n",
    "# Elif é uma abreviação de \"if e else\". Usar quando uma condição não é verdadeira. Posso colocar quantos eu quiser, diferente do else que eu não posso colocar: else e depois else, tem que ter um if antes."
   ]
  },
  {
   "cell_type": "code",
   "execution_count": 14,
   "metadata": {},
   "outputs": [
    {
     "name": "stdout",
     "output_type": "stream",
     "text": [
      "Você foi aprovado!\n"
     ]
    }
   ],
   "source": [
    "#4) Faça um programa para a leitura de duas notas parciais de um aluno. O programa deve calcular a média alcançada por aluno e apresentar o resultado \"Aprovado\" ou \"Reprovado\". Considere que a escola adota média 7.00.\n",
    "nota1= float(input('Digite sua primeira nota:'))\n",
    "nota2= float(input('Digite sua segunda nota:'))\n",
    "media= (nota1+nota2)/2\n",
    "if media>=7.0:\n",
    "    print ('Você foi aprovado!')\n",
    "else:\n",
    "    print ('Você foi reprovado!')\n"
   ]
  },
  {
   "cell_type": "code",
   "execution_count": 29,
   "metadata": {},
   "outputs": [
    {
     "name": "stdout",
     "output_type": "stream",
     "text": [
      "O primeiro número digitado é maior que o segundo e o terceiro\n"
     ]
    }
   ],
   "source": [
    "#5)Faça um Programa que leia três números e mostre o maior deles.\n",
    "numero6= int(input ('Digite um número'))\n",
    "numero7= int(input ('Digite outro número'))\n",
    "numero8=int(input ('Digite mais um número'))\n",
    "if numero6>numero7 and numero8:\n",
    "     print ( 'O primeiro número digitado é maior que o segundo e o terceiro')\n",
    "elif numero7>numero6 and numero8:\n",
    "     print( 'O segundo número digitado é maior que o primeiro e o terceiro')\n",
    "elif numero8>numero6 and numero7:\n",
    "     print( 'O terceiro número digitado é maior que o primeiro e o segundo')"
   ]
  }
 ],
 "metadata": {
  "kernelspec": {
   "display_name": "Python 3",
   "language": "python",
   "name": "python3"
  },
  "language_info": {
   "codemirror_mode": {
    "name": "ipython",
    "version": 3
   },
   "file_extension": ".py",
   "mimetype": "text/x-python",
   "name": "python",
   "nbconvert_exporter": "python",
   "pygments_lexer": "ipython3",
   "version": "3.11.9"
  }
 },
 "nbformat": 4,
 "nbformat_minor": 2
}
