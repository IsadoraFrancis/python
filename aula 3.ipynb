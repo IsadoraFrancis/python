{
 "cells": [
  {
   "cell_type": "code",
   "execution_count": null,
   "metadata": {},
   "outputs": [],
   "source": [
    "numero= (input('Digite um número:'))\n",
    "print('Seu número escolhido foi:' numero)\n",
    "#input é pra aparecer a caixinha de perguntas\n",
    "#print vai da o resultado"
   ]
  },

tidrkflaç
  {
   "cell_type": "code",
   "execution_count": null,
   "metadata": {},
   "outputs": [],
   "source": [
    "numero1= int(input('Digite um número:'))\n",
    "numero2= int(input('Digite um número:'))\n",
    "soma= numero1+numero2\n",
    "print('A soma dos números é igual a', soma)\n",
    "#o 'Int' é pq o número é inteiro. tem que botar que tipo de numero é senão a soma da errado"
   ]
  },
  {
   "cell_type": "code",
   "execution_count": null,
   "metadata": {},
   "outputs": [],
   "source": [
    "nota1= float(input('Digite sua primeira nota:'))\n",
    "nota2= float(input('Digite sua segunda nota:'))\n",
    "nota3= float(input('Digite sua terceira nota:'))\n",
    "media= (nota1+nota2+nota3)/3\n",
    "print('A sua média é igual a', media)\n",
    "#assim como na metematica a conta resolve primeiro o que ta dentro dos ()\n",
    "#float é o tipo do número"
   ]
  },
  {
   "cell_type": "code",
   "execution_count": null,
   "metadata": {},
   "outputs": [],
   "source": [
    "hora= int(input('Digite quanto você ganha por hora:'))\n",
    "horaMes= int(input('Digite quantas horas você trabalha por mês:'))\n",
    "salario= hora*horaMes\n",
    "print ('Seu salário é de', salario 'por mês.')"
   ]
  },
  {
   "cell_type": "code",
   "execution_count": null,
   "metadata": {},
   "outputs": [],
   "source": [
    "#peso permitido 50kg e paga multa de 4 reais por kg que passar.\n",
    "#conceito de if e else que vimos na aula passada\n",
    "peso=  float(input('Quantos kg tem o peixe?'))\n",
    "extra= peso-50\n",
    "if (peso>50):\n",
    "    print ('Peso excedente de', extra *4, 'reais.')\n",
    "else:\n",
    "    print('Peso permitido!')"
   ]
  }
 ],
 "metadata": {
  "language_info": {
   "name": "python"
  }
 },
 "nbformat": 4,
 "nbformat_minor": 2
}
