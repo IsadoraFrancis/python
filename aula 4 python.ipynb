{
 "cells": [
  {
   "cell_type": "code",
   "execution_count": 1,
   "metadata": {},
   "outputs": [
    {
     "name": "stdout",
     "output_type": "stream",
     "text": [
      "O valor da taxa é 10.5 o valor do carro com a taxa é: 710.5\n"
     ]
    }
   ],
   "source": [
    "#taxa de 1% antes de 1990 \n",
    "#taxa de 1.5% depois\n",
    "ano= float(input ('Digite o ano de fabricação do seu carro:'))\n",
    "preço= float(input ('Digite o valor do seu carro'))\n",
    "\n",
    "if ano<1990:\n",
    "   taxa=(preço*00.1)\n",
    "   preço= preço+taxa\n",
    "   print ('O valor da taxa é', taxa,'o valor do carro com a taxa é:',preço)\n",
    "else:ano>1990\n",
    "taxa=(preço*0.015)\n",
    "preço= preço+taxa\n",
    "print ('O valor da taxa é', taxa,'o valor do carro com a taxa é:',preço)\n",
    "#pra botar a porcentagem eu tenho que dividir po 100 e botar o resultado do numero fracionado"
   ]
  },
  {
   "cell_type": "code",
   "execution_count": 4,
   "metadata": {},
   "outputs": [
    {
     "name": "stdout",
     "output_type": "stream",
     "text": [
      "Seu salário antigo era: 100.0 . Com o aumento de: 40.0 Seu novo salário vai ser de: 140.0\n"
     ]
    }
   ],
   "source": [
    "cargo1=(input ('Digite o seu cargo:'))\n",
    "salario=float(input ('Digite seu salário:'))\n",
    "cargo2='gerente'\n",
    "cargo3='engenheiro'\n",
    "cargo4='técnico'\n",
    "if cargo1 != cargo2 and cargo1!=cargo3 and cargo1!=cargo4:\n",
    "    aumento= (salario*0.4)\n",
    "    salario_novo= salario + aumento\n",
    "    print ('Seu salário antigo era:', salario,'. Com o aumento de:', aumento,'Seu novo salário vai ser de:',salario_novo)\n",
    "    #salario do gerente\n",
    "elif cargo1==cargo2 and cargo1!=cargo3 and cargo1!=cargo4:\n",
    "    aumento2= (salario*.01)\n",
    "    salario_novo2= salario + aumento2\n",
    "    print ('Seu salário antigo era:', salario ,'. Com o aumento de:', aumento2 ,'Seu novo salário vai ser de:', salario_novo2)\n",
    "    #salario do engenheiro\n",
    "elif cargo1==cargo3 and cargo1!=cargo2 and cargo1!=cargo4:\n",
    "    aumento3= (salario*0.2)\n",
    "    salario_novo3= salario + aumento3\n",
    "    print ('Seu salário antigo era:',salario ,'. Com o aumento de:', aumento3 ,'Seu novo salário vai ser de:',salario_novo3)\n",
    "    #salario do técnico\n",
    "elif cargo1==cargo4 and cargo1!=cargo2 and cargo1!=cargo3:\n",
    "    aumento4= (salario*0.3)\n",
    "    salario_novo4= salario + aumento4\n",
    "    print ('Seu salário antigo era:',salario ,'. Com o aumento de:',aumento4 ,'Seu novo salário vai ser de:', salario_novo4)\n"
   ]
  }
 ],
 "metadata": {
  "kernelspec": {
   "display_name": "Python 3",
   "language": "python",
   "name": "python3"
  },
  "language_info": {
   "codemirror_mode": {
    "name": "ipython",
    "version": 3
   },
   "file_extension": ".py",
   "mimetype": "text/x-python",
   "name": "python",
   "nbconvert_exporter": "python",
   "pygments_lexer": "ipython3",
   "version": "3.11.9"
  }
 },
 "nbformat": 4,
 "nbformat_minor": 2
}
