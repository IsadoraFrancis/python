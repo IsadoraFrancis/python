{
 "cells": [
  {
   "cell_type": "code",
   "execution_count": 6,
   "metadata": {},
   "outputs": [
    {
     "data": {
      "text/plain": [
       "1"
      ]
     },
     "execution_count": 6,
     "metadata": {},
     "output_type": "execute_result"
    }
   ],
   "source": [
    "dias = [3, 1, 10]\n",
    "dias[1]\n",
    "#Sempre começa a contar pelo 0 a contagem da lista (0=3, 1=1, 2=10)\n",
    "#se eu quiser mostrar varios resultado sem tem que abrir uma nova celula eu vou ter que botar print"
   ]
  },
  {
   "cell_type": "code",
   "execution_count": 8,
   "metadata": {},
   "outputs": [
    {
     "data": {
      "text/plain": [
       "[7, 8, 9]"
      ]
     },
     "execution_count": 8,
     "metadata": {},
     "output_type": "execute_result"
    }
   ],
   "source": [
    "z = [3, 8, 9]\n",
    "z[0] = 7\n",
    "z\n",
    "#chama a lista mudando o elemento eu boto assim z[valor que eu quero alterar] = valor que eu quero colocar"
   ]
  },
  {
   "cell_type": "code",
   "execution_count": 14,
   "metadata": {},
   "outputs": [
    {
     "name": "stdout",
     "output_type": "stream",
     "text": [
      "True\n",
      "[6, 7, 5, 33, 9]\n",
      "[6, 7, 5, 33, 9]\n"
     ]
    }
   ],
   "source": [
    "v=[6, 7, 5, 8, 9]\n",
    "L=v\n",
    "print (v == L)\n",
    "v [3] = 33\n",
    "print (L)\n",
    "print (v)"
   ]
  },
  {
   "cell_type": "code",
   "execution_count": 9,
   "metadata": {},
   "outputs": [
    {
     "name": "stdout",
     "output_type": "stream",
     "text": [
      "True\n",
      "[81, 82, 83]\n",
      "[5, 82, 83]\n"
     ]
    }
   ],
   "source": [
    "a=[81, 82, 83]\n",
    "b= a[:] #criar um clone com fatia (o : serve para sinalizar que a e b são variaveis diferentes mas que tem os mesmos valores)\n",
    "print(a==b)\n",
    "b[0]=5\n",
    "print(a)\n",
    "print(b)"
   ]
  },
  {
   "cell_type": "code",
   "execution_count": 15,
   "metadata": {},
   "outputs": [
    {
     "name": "stdout",
     "output_type": "stream",
     "text": [
      "['b', 'c']\n",
      "['a', 'b', 'c', 'd']\n",
      "['d', 'e', 'f']\n",
      "['a', 'b', 'c', 'd', 'e', 'f']\n"
     ]
    }
   ],
   "source": [
    "uma_lista=['a', 'b', 'c', 'd', 'e', 'f']\n",
    "print(uma_lista[1:3]) #do 1 ate antes do 3\n",
    "print(uma_lista[:4]) #ate antes do 4\n",
    "print(uma_lista[3:])  # começa no 3\n",
    "print(uma_lista[:]) #clone"
   ]
  },
  {
   "cell_type": "code",
   "execution_count": 25,
   "metadata": {},
   "outputs": [
    {
     "name": "stdout",
     "output_type": "stream",
     "text": [
      "3\n",
      "[1, 2, 3]\n",
      "[5, 2, 3]\n"
     ]
    }
   ],
   "source": [
    "a= [1, 2, 3]\n",
    "b=a [:]\n",
    "b[0]=5\n",
    "print (a[2])\n",
    "print (a)\n",
    "print (b)\n"
   ]
  },
  {
   "cell_type": "code",
   "execution_count": 41,
   "metadata": {},
   "outputs": [
    {
     "data": {
      "text/plain": [
       "[76, 92.3, 'oi', 'True', 4, 76, 'pitomba', 76]"
      ]
     },
     "execution_count": 41,
     "metadata": {},
     "output_type": "execute_result"
    }
   ],
   "source": [
    "minhaLista = [76, 92.3, 'oi', 'True', 4, 76]\n",
    "minhaLista2= ['pitomba', 76]\n",
    "minhaLista + minhaLista2\n",
    "\n",
    " "
   ]
  },
  {
   "cell_type": "code",
   "execution_count": 43,
   "metadata": {},
   "outputs": [
    {
     "name": "stdout",
     "output_type": "stream",
     "text": [
      "[76, 92.3, 'oi', 'Cibele', 'True', '4', 76]\n"
     ]
    }
   ],
   "source": [
    "#primeira tentativa\n",
    "minhaLista = [76, 92.3, 'oi', 'True', 4, 76]\n",
    "minhaLista[3] = 'Cibele'\n",
    "minhaLista[4] = 'True'\n",
    "minhaLista[5] = '4'\n",
    "minhaLista2= [76]\n",
    "print (minhaLista + minhaLista2)"
   ]
  },
  {
   "cell_type": "code",
   "execution_count": 55,
   "metadata": {},
   "outputs": [
    {
     "data": {
      "text/plain": [
       "[76, 92.3, 'oi', 'cibele', 'True', 4, 76]"
      ]
     },
     "execution_count": 55,
     "metadata": {},
     "output_type": "execute_result"
    }
   ],
   "source": [
    "#segunda tentativa\n",
    "minhaLista = [76, 92.3, 'oi', 'True', 4, 76]\n",
    "minhaLista2 =['cibele']\n",
    "minhaLista[0:3] + minhaLista2 + minhaLista [3:]"
   ]
  },
  {
   "cell_type": "code",
   "execution_count": 44,
   "metadata": {},
   "outputs": [
    {
     "name": "stdout",
     "output_type": "stream",
     "text": [
      "[99, 76, 92.3, 'oi', 'True', 4, 76]\n"
     ]
    }
   ],
   "source": [
    "#primeira tentativa\n",
    "minhaLista = [76, 92.3, 'oi', 'True', 4, 76]\n",
    "minhaLista2= [99]\n",
    "print (minhaLista2 + minhaLista)"
   ]
  },
  {
   "cell_type": "code",
   "execution_count": 66,
   "metadata": {},
   "outputs": [
    {
     "name": "stdout",
     "output_type": "stream",
     "text": [
      "[99, 76, 92.3, 'oi', 'True', 4, 76]\n"
     ]
    }
   ],
   "source": [
    "#tentativa 2\n",
    "minhaLista = [76, 92.3, 'oi', 'True', 4, 76]\n",
    "minhaLista2 =[99]\n",
    "minhaLista[:0]= minhaLista2\n",
    "print (minhaLista)"
   ]
  },
  {
   "cell_type": "code",
   "execution_count": 45,
   "metadata": {},
   "outputs": [
    {
     "name": "stdout",
     "output_type": "stream",
     "text": [
      "oi\n"
     ]
    }
   ],
   "source": [
    "minhaLista = [76, 92.3, 'oi', 'True', 4, 76]\n",
    "print (minhaLista[2])"
   ]
  },
  {
   "cell_type": "code",
   "execution_count": 68,
   "metadata": {},
   "outputs": [
    {
     "name": "stdout",
     "output_type": "stream",
     "text": [
      "[76, 92.3, 'oi', 4, 76]\n"
     ]
    }
   ],
   "source": [
    "#primeira tenativa\n",
    "minhaLista = [76, 92.3, 'oi', 'True', 4, 76]\n",
    "minhaLista[3] = 4\n",
    "minhaLista[4] = 76\n",
    "print (minhaLista[:5])"
   ]
  },
  {
   "cell_type": "code",
   "execution_count": 70,
   "metadata": {},
   "outputs": [
    {
     "name": "stdout",
     "output_type": "stream",
     "text": [
      "[76, 92.3, 'oi', 4, 76]\n"
     ]
    }
   ],
   "source": [
    "#tentativa 2\n",
    "minhaLista = [76, 92.3, 'oi', 'True', 4, 76]\n",
    "minhaLista = minhaLista[:3] + minhaLista [4:]\n",
    "print (minhaLista)"
   ]
  }
 ],
 "metadata": {
  "kernelspec": {
   "display_name": "Python 3",
   "language": "python",
   "name": "python3"
  },
  "language_info": {
   "codemirror_mode": {
    "name": "ipython",
    "version": 3
   },
   "file_extension": ".py",
   "mimetype": "text/x-python",
   "name": "python",
   "nbconvert_exporter": "python",
   "pygments_lexer": "ipython3",
   "version": "3.11.9"
  }
 },
 "nbformat": 4,
 "nbformat_minor": 2
}
